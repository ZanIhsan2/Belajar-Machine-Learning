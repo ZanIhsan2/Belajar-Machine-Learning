{
 "cells": [
  {
   "cell_type": "code",
   "execution_count": 7,
   "id": "9b9c5db0",
   "metadata": {},
   "outputs": [
    {
     "name": "stdout",
     "output_type": "stream",
     "text": [
      "   instant      dteday  season  temp   hum  windspeed\n",
      "0        1  2011-01-01       1  0.24  0.81        0.0\n",
      "1        2  2011-01-01       1  0.22  0.80        0.0\n",
      "2        3  2011-01-01       1  0.22  0.80        0.0\n",
      "3        4  2011-01-01       1  0.24  0.75        0.0\n",
      "4        5  2011-01-01       1  0.24  0.75        0.0\n"
     ]
    }
   ],
   "source": [
    "import pandas as pd\n",
    "\n",
    "# Membaca File dataset\n",
    "df = pd.read_csv('../data/hour.csv' , sep=',')\n",
    "\n",
    "# Membuat dataframe baru\n",
    "df1 = df[['instant', 'dteday', 'season', 'temp', 'hum', 'windspeed']]\n",
    "\n",
    "# Menampilkan dataframe baru\n",
    "print(df1.head())\n",
    "\n",
    "# Menyimpan data ke file CSV baru\n",
    "df1.to_csv('latihan_mandiri.csv' , index=False)"
   ]
  }
 ],
 "metadata": {
  "kernelspec": {
   "display_name": "Python 3",
   "language": "python",
   "name": "python3"
  },
  "language_info": {
   "codemirror_mode": {
    "name": "ipython",
    "version": 3
   },
   "file_extension": ".py",
   "mimetype": "text/x-python",
   "name": "python",
   "nbconvert_exporter": "python",
   "pygments_lexer": "ipython3",
   "version": "3.13.7"
  }
 },
 "nbformat": 4,
 "nbformat_minor": 5
}
